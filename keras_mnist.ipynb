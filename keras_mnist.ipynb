{
  "nbformat": 4,
  "nbformat_minor": 0,
  "metadata": {
    "colab": {
      "provenance": []
    },
    "kernelspec": {
      "name": "python3",
      "display_name": "Python 3"
    },
    "language_info": {
      "name": "python"
    }
  },
  "cells": [
    {
      "cell_type": "code",
      "execution_count": null,
      "metadata": {
        "id": "K8nyyuvGD0s0"
      },
      "outputs": [],
      "source": [
        "from tensorflow import keras\n",
        "from keras.models import Sequential\n",
        "from keras.layers import Dense, Flatten\n",
        "\n",
        "# 建立Sequential模型\n",
        "model = Sequential()\n",
        "\n",
        "# 將圖片拉平成一維陣列\n",
        "model.add(Flatten())\n",
        "\n",
        "# 加入一個Dense層，32個神經元，激活函數為ReLU，輸入維度為784\n",
        "model.add(Dense(32, activation='relu', input_dim=784))\n",
        "\n",
        "# 加入一個Dense層，10個神經元，激活函數為Sigmoid\n",
        "model.add(Dense(10, activation='sigmoid'))\n",
        "\n",
        "# 編譯模型，使用rmsprop優化器、稀疏分類交叉熵損失函數，並計算準確度\n",
        "model.compile(optimizer='rmsprop', loss='sparse_categorical_crossentropy', metrics=['accuracy'])\n",
        "\n",
        "\n"
      ]
    },
    {
      "cell_type": "code",
      "source": [
        "# 載入MNIST資料集，包含手寫數字圖片\n",
        "mnist = keras.datasets.mnist\n",
        "(train_data, train_label), (test_data, test_label) = mnist.load_data()"
      ],
      "metadata": {
        "id": "K72LMtsCELgB"
      },
      "execution_count": null,
      "outputs": []
    },
    {
      "cell_type": "code",
      "source": [
        "\n",
        "# 印出資料的型別和形狀\n",
        "print(type(train_data))\n",
        "print(train_data.shape)\n",
        "print(type(train_label))\n",
        "print(train_label.shape)\n",
        "print(test_data.shape)\n",
        "print(test_label.shape)\n",
        "\n",
        "# 印出訓練標籤的第一個值\n",
        "print(train_label[0])\n",
        "\n",
        "# 印出訓練資料的第一個值\n",
        "print(train_data[0])"
      ],
      "metadata": {
        "id": "EuRzhzcpEdtw"
      },
      "execution_count": null,
      "outputs": []
    },
    {
      "cell_type": "code",
      "source": [
        "import matplotlib.pyplot as plt\n",
        "\n",
        "# 顯示第一張訓練圖片\n",
        "plt.imshow(train_data[0], cmap='binary')\n",
        "\n",
        "# 顯示圖片\n",
        "plt.show()\n"
      ],
      "metadata": {
        "id": "rGfDBEsMEj1v"
      },
      "execution_count": null,
      "outputs": []
    },
    {
      "cell_type": "code",
      "source": [
        "# 使用訓練資料集進行模型訓練，設定20個訓練週期，每批次512筆資料\n",
        "model.fit(train_data, train_label, epochs=20, batch_size=512)\n",
        "\n",
        "# 使用測試資料集進行評估，並印出模型的準確度\n",
        "score=model.evaluate(test_data, test_label)\n",
        "print(score[1])"
      ],
      "metadata": {
        "id": "DtqVt71KEq6o"
      },
      "execution_count": null,
      "outputs": []
    }
  ]
}