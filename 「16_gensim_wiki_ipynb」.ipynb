{
  "nbformat": 4,
  "nbformat_minor": 0,
  "metadata": {
    "colab": {
      "provenance": [],
      "private_outputs": true,
      "machine_shape": "hm"
    },
    "kernelspec": {
      "name": "python3",
      "display_name": "Python 3"
    },
    "accelerator": "GPU"
  },
  "cells": [
    {
      "cell_type": "markdown",
      "metadata": {
        "id": "Ssk5BSNbelCF"
      },
      "source": [
        "# Word2Vec實作\n",
        "- 字詞所代表的意義非常多元，在不同狀況下，會代表不同意思。要把多元意思用單一向量表示，則必須要進行word embedding的動作，也就是把高維向量降為低維向量的過程\n",
        "- 之前介紹過，利用分散式表示法來表達字詞向量，例如PMI、SVD..統計法..等\n",
        "- 2013年神經網路盛行後，Tomas Mikolov利用神經網路訓練方式，來獲得字詞的表達向量，獲得很棒的成果。一般認為是利用神經網路模擬人類的理解能力，獲得不錯的分布空間所得到的成果。\n",
        "- 本範例以維基百科wiki部分資料作範例\n",
        "- 資料來源：https://dumps.wikimedia.org/zhwiki/20231201/zhwiki-20231201-pages-articles-multistream1.xml-p1p187712.bz2\n",
        "- 利用結巴分詞(jieba)進行斷詞，gensim套件進行word2vec計算\n",
        "- 本範例約需1小時長時間執行\n"
      ]
    },
    {
      "cell_type": "code",
      "source": [
        "!wget https://dumps.wikimedia.org/zhwiki/20231201/zhwiki-20231201-pages-articles-multistream1.xml-p1p187712.bz2"
      ],
      "metadata": {
        "id": "ylVzFulsmgzB"
      },
      "execution_count": null,
      "outputs": []
    },
    {
      "cell_type": "markdown",
      "source": [
        "### opencc是繁簡轉換工具"
      ],
      "metadata": {
        "id": "eMIti7ru3701"
      }
    },
    {
      "cell_type": "code",
      "metadata": {
        "id": "0Ta_qze2iHJi"
      },
      "source": [
        "!pip install opencc-python-reimplemented"
      ],
      "execution_count": null,
      "outputs": []
    },
    {
      "cell_type": "markdown",
      "source": [
        "### gensim是訓練word2vec的函式庫"
      ],
      "metadata": {
        "id": "SQCWrmFJ4Mps"
      }
    },
    {
      "cell_type": "code",
      "metadata": {
        "id": "1BIoy7K5eqIS"
      },
      "source": [
        "from gensim.corpora import WikiCorpus\n",
        "\n",
        "wiki_corpus = WikiCorpus('zhwiki-20231201-pages-articles-multistream1.xml-p1p187712.bz2', dictionary={})"
      ],
      "execution_count": null,
      "outputs": []
    },
    {
      "cell_type": "code",
      "metadata": {
        "id": "0T7ZZpDr3Sg8"
      },
      "source": [
        "wiki_corpus"
      ],
      "execution_count": null,
      "outputs": []
    },
    {
      "cell_type": "code",
      "metadata": {
        "id": "KqX5g3Idsp-V"
      },
      "source": [
        "next(iter(wiki_corpus.get_texts()))[:10]"
      ],
      "execution_count": null,
      "outputs": []
    },
    {
      "cell_type": "markdown",
      "source": [
        "## 把wiki的資料檔案，轉換成連續文字的txt檔案"
      ],
      "metadata": {
        "id": "AjOTHZGR5nCE"
      }
    },
    {
      "cell_type": "code",
      "metadata": {
        "id": "AL99YGiSfhGu"
      },
      "source": [
        "text_num = 0  # 記錄處理的文本數量，初始化為0\n",
        "\n",
        "with open('wiki_text.txt', 'w', encoding='utf-8') as f:          # 開啟一個文本檔案 'wiki_text.txt' 以寫入模式，使用 UTF-8 編碼\n",
        "    for text in wiki_corpus.get_texts():                 # 迴圈遍歷Wikipedia語料庫中的文本\n",
        "        f.write(' '.join(text)+'\\n')                  # 將每個文本中的單詞用空格連接成字串，然後寫入文件中，並在每個文本後換行\n",
        "        text_num += 1                          # 更新處理的文本數量\n",
        "        if text_num % 10000 == 0:                  # 每處理 10000 篇文章，輸出一次處理進度\n",
        "            print('{} articles processed.'.format(text_num))\n",
        "\n",
        "    print('{} articles processed.'.format(text_num))            # 輸出最終處理的文本數量"
      ],
      "execution_count": null,
      "outputs": []
    },
    {
      "cell_type": "code",
      "metadata": {
        "id": "FQ01OEi6szXr"
      },
      "source": [
        "import jieba\n",
        "from opencc import OpenCC\n",
        "\n",
        "\n",
        "# Initial\n",
        "cc = OpenCC('s2t')                               # 初始化 OpenCC，設定轉換為繁體中文\n",
        "train_data = open('wiki_text.txt', 'r', encoding='utf-8').read()       # 開啟 'wiki_text.txt' 文本檔案，讀取內容\n",
        "train_data = cc.convert(train_data)                      # 使用 OpenCC 將簡體中文轉換為繁體中文\n",
        "train_data = jieba.lcut(train_data)                        # 使用 jieba 對文本進行分詞\n",
        "train_data = [word for word in train_data if word != '']         # 過濾空字串\n",
        "train_data = ' '.join(train_data)                        # 將分詞結果以空格連接成字串\n",
        "open('seg.txt', 'w', encoding='utf-8').write(train_data)             # 將處理好的文本寫入 'seg.txt' 檔案"
      ],
      "execution_count": null,
      "outputs": []
    },
    {
      "cell_type": "code",
      "metadata": {
        "id": "FXxRBbays3k0"
      },
      "source": [
        "from gensim.models import word2vec\n",
        "\n",
        "# 設定模型的參數\n",
        "# Settings\n",
        "seed = 666          # 隨機種子，確保可重複性\n",
        "sg = 0             # 使用 CBOW 模型（sg=0）或 Skip-gram 模型（sg=1）\n",
        "window_size = 10        # 上下文窗口大小\n",
        "#vector_size = 100\n",
        "min_count = 1         # 最小詞頻門檻\n",
        "workers = 8           # 訓練模型的平行化工作數量\n",
        "#epochs = 5\n",
        "batch_words = 10000      # 每個訓練批次的詞彙數\n",
        "\n",
        "train_data = word2vec.LineSentence('seg.txt')      # 從 'seg.txt' 文本檔案中讀取訓練數據\n",
        "\n",
        "# 使用 Word2Vec 建立詞向量模型\n",
        "model = word2vec.Word2Vec(\n",
        "    train_data,\n",
        "    min_count=min_count,\n",
        "    #size=vector_size,\n",
        "    workers=workers,\n",
        "    #iter=epochs,\n",
        "    window=window_size,\n",
        "    sg=sg,\n",
        "    seed=seed,\n",
        "    batch_words=batch_words\n",
        ")\n",
        "\n",
        "model.save('word2vec.model')           # 儲存訓練好的 Word2Vec 模型"
      ],
      "execution_count": null,
      "outputs": []
    },
    {
      "cell_type": "code",
      "metadata": {
        "id": "1PovTacQs-R_"
      },
      "source": [
        "from gensim.models import word2vec\n",
        "\n",
        "string = '腦'                      # 指定詞語\n",
        "model = word2vec.Word2Vec.load('word2vec.model')     # 載入訓練好的 Word2Vec 模型\n",
        "print(string)\n",
        "\n",
        "for item in model.wv.most_similar(string):         # 列印與指定詞語最相似的詞語及相似度\n",
        "    print(item)"
      ],
      "execution_count": null,
      "outputs": []
    },
    {
      "cell_type": "code",
      "metadata": {
        "id": "E235am9EVIuG"
      },
      "source": [],
      "execution_count": null,
      "outputs": []
    }
  ]
}