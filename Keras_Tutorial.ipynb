{
  "nbformat": 4,
  "nbformat_minor": 0,
  "metadata": {
    "colab": {
      "provenance": []
    },
    "kernelspec": {
      "name": "python3",
      "display_name": "Python 3"
    },
    "language_info": {
      "name": "python"
    }
  },
  "cells": [
    {
      "cell_type": "markdown",
      "source": [
        "# 隨機產生模擬訓練"
      ],
      "metadata": {
        "id": "gOSz-xWFAkph"
      }
    },
    {
      "cell_type": "code",
      "source": [
        "from tensorflow import keras\n",
        "from keras.models import Sequential   #Sequential 堆疊\n",
        "from keras.layers import Dense\n",
        "\n",
        "import numpy as np\n",
        "data = np.random.random((1000, 10)) #隨機產生1000筆資料，每筆資料包含十個float數字\n",
        "labels = np.random.randint(2, size=(1000, 1)) #隨機產生1000筆資料，每筆資料上限為2(意思就是0 或 1)\n",
        "print(np.shape(data))\n",
        "print(data[0])\n",
        "print(np.shape(labels))\n",
        "print(labels[0])\n",
        "\n",
        "# 建立Sequential模型\n",
        "model = Sequential()\n",
        "\n",
        "# 加入第一層Dense層，32個神經元，激活函數為ReLU，輸入維度為10\n",
        "model.add(Dense(32, activation='relu', input_dim=10))\n",
        "\n",
        "# 加入第二層Dense層，1個神經元，激活函數為Sigmoid\n",
        "model.add(Dense(1, activation='sigmoid'))\n",
        "\n",
        "# 編譯模型，使用rmsprop優化器、二元交叉熵損失函數，並計算準確度\n",
        "model.compile(optimizer='rmsprop', loss='binary_crossentropy', metrics=['accuracy'])\n",
        "\n",
        "# 使用訓練資料進行模型訓練，訓練10個epochs，每批次32筆資料\n",
        "model.fit(data, labels, epochs=10, batch_size=32)\n",
        "\n",
        "# 評估模型，並印出準確度\n",
        "score = model.evaluate(data, labels)\n",
        "print(\"準確度:\", score[1])"
      ],
      "metadata": {
        "id": "OUwUCgJjAk6I"
      },
      "execution_count": null,
      "outputs": []
    }
  ]
}