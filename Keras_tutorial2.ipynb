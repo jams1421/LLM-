{
  "nbformat": 4,
  "nbformat_minor": 0,
  "metadata": {
    "colab": {
      "provenance": []
    },
    "kernelspec": {
      "name": "python3",
      "display_name": "Python 3"
    },
    "language_info": {
      "name": "python"
    }
  },
  "cells": [
    {
      "cell_type": "markdown",
      "source": [
        "#                MNIST手寫數字資料訓練"
      ],
      "metadata": {
        "id": "_3GLIAt_BeNp"
      }
    },
    {
      "cell_type": "code",
      "source": [
        "from tensorflow import keras\n",
        "from keras.models import Sequential           #Sequential 堆疊\n",
        "from keras.layers import Dense ,Flatten, Dropout    #Flatten 拉平  #Dropout 丟棄\n",
        "from keras.datasets import mnist\n",
        "\n",
        "# 載入MNIST資料集，包含手寫數字圖片\n",
        "(train_data, train_label), (test_data, test_label) = mnist.load_data()\n",
        "\n",
        "# 建立Sequential模型\n",
        "model = Sequential()\n",
        "\n",
        "# 將圖片拉平成一維陣列\n",
        "model.add(Flatten())\n",
        "\n",
        "# 加入一個Dense層，包含512個神經元，激活函數為ReLU，輸入維度為784\n",
        "model.add(Dense(512, activation='relu', input_dim=784))\n",
        "\n",
        "# 加入Dropout層，隨機丟棄20%的神經元，用於防止過擬合\n",
        "model.add(Dropout(0.2))\n",
        "\n",
        "# 加入一個Dense層，包含10個神經元，激活函數為Softmax\n",
        "model.add(Dense(10, activation='softmax'))\n",
        "\n",
        "# 編譯模型，使用rmsprop優化器、稀疏分類交叉熵損失函數，並計算準確度\n",
        "model.compile(optimizer='rmsprop', loss='sparse_categorical_crossentropy', metrics=['accuracy'])\n",
        "\n",
        "# 使用訓練資料進行模型訓練，訓練10個epochs\n",
        "model.fit(train_data, train_label, epochs=10)\n"
      ],
      "metadata": {
        "id": "vW-m1A7uBeW3"
      },
      "execution_count": null,
      "outputs": []
    },
    {
      "cell_type": "code",
      "source": [
        "# 評估模型，並印出準確度\n",
        "score=model.evaluate(test_data, test_label)\n",
        "print(score[1])"
      ],
      "metadata": {
        "id": "Os5uSQh8BoBP"
      },
      "execution_count": null,
      "outputs": []
    }
  ]
}