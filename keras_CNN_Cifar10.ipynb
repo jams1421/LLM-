{
  "nbformat": 4,
  "nbformat_minor": 0,
  "metadata": {
    "colab": {
      "provenance": []
    },
    "kernelspec": {
      "name": "python3",
      "display_name": "Python 3"
    },
    "language_info": {
      "name": "python"
    }
  },
  "cells": [
    {
      "cell_type": "markdown",
      "source": [
        "# CNN.Cifar10 圖片訓練"
      ],
      "metadata": {
        "id": "Ws7M0Z7XGqu5"
      }
    },
    {
      "cell_type": "code",
      "source": [
        "from tensorflow import keras\n",
        "from keras.models import Sequential\n",
        "from keras.layers import Dense, Conv2D, MaxPooling2D, Flatten\n",
        "\n",
        "# 建立Sequential模型\n",
        "model = Sequential()\n",
        "\n",
        "# 加入第一個卷積層，使用64個濾波器，每個濾波器大小為5x5，輸入形狀為(32, 32, 3)，啟動函數為ReLU\n",
        "model.add(Conv2D(filters=64, kernel_size=(5, 5), input_shape=(32, 32, 3), activation='relu'))\n",
        "\n",
        "# 加入第二個卷積層，使用64個濾波器，每個濾波器大小為5x5，啟動函數為ReLU\n",
        "model.add(Conv2D(filters=64, kernel_size=(5, 5), activation='relu'))\n",
        "\n",
        "# 加入池化層，使用MaxPooling，池化大小為2x2\n",
        "model.add(MaxPooling2D(pool_size=2))\n",
        "\n",
        "# 加入第三個卷積層，使用128個濾波器，每個濾波器大小為5x5，啟動函數為ReLU\n",
        "model.add(Conv2D(filters=128, kernel_size=(5, 5), activation='relu'))\n",
        "\n",
        "# 加入第四個卷積層，使用128個濾波器，每個濾波器大小為5x5，啟動函數為ReLU\n",
        "model.add(Conv2D(filters=128, kernel_size=(5, 5), activation='relu'))\n",
        "\n",
        "# 加入池化層，使用MaxPooling，池化大小為2x2\n",
        "model.add(MaxPooling2D(pool_size=2))\n",
        "\n",
        "# 拉平層，將卷積層的輸出拉平成一維陣列\n",
        "model.add(Flatten())\n",
        "\n",
        "# 加入全連接層，輸出10個類別，啟動函數為Softmax\n",
        "model.add(Dense(10, activation='softmax'))\n",
        "\n",
        "# 顯示模型摘要\n",
        "model.summary()\n",
        "\n",
        "# 編譯模型，使用rmsprop優化器、分類交叉熵損失函數，並計算準確度\n",
        "model.compile(optimizer='rmsprop', loss='categorical_crossentropy', metrics=['accuracy'])\n"
      ],
      "metadata": {
        "id": "K72LMtsCELgB"
      },
      "execution_count": null,
      "outputs": []
    },
    {
      "cell_type": "code",
      "source": [
        "from keras.datasets import cifar10\n",
        "\n",
        "# 載入CIFAR-10資料集，包含訓練資料、訓練標籤、測試資料、測試標籤\n",
        "(train_data, train_label), (test_data, test_label) = cifar10.load_data()\n",
        "\n",
        "# 保留原始訓練標籤，供後續混淆矩陣使用\n",
        "train_label_original = train_label\n",
        "\n",
        "# 將訓練標籤和測試標籤進行one-hot編碼\n",
        "train_label = keras.utils.to_categorical(train_label)\n",
        "test_label = keras.utils.to_categorical(test_label)\n",
        "\n"
      ],
      "metadata": {
        "id": "EuRzhzcpEdtw"
      },
      "execution_count": null,
      "outputs": []
    },
    {
      "cell_type": "code",
      "source": [
        "import matplotlib.pyplot as plt\n",
        "\n",
        "photo_number = 18   # 要顯示的測試照片號碼\n",
        "\n",
        "# CIFAR-10類別\n",
        "category = ['airplane', 'automobile', 'bird', 'cat', 'deer', 'dog', 'frog', 'horse', 'ship', 'truck']\n",
        "\n",
        "# 顯示訓練照片\n",
        "plt.imshow(train_data[photo_number])\n",
        "plt.title(category[int(train_label_original[photo_number])])\n",
        "plt.show()\n",
        "\n",
        "# 印出真實標籤\n",
        "print(\"真實標籤:\", train_label_original[photo_number])\n",
        "\n"
      ],
      "metadata": {
        "id": "rGfDBEsMEj1v"
      },
      "execution_count": null,
      "outputs": []
    },
    {
      "cell_type": "code",
      "source": [
        "# 使用訓練資料集進行模型訓練，設定30個訓練週期，每批次512筆資料\n",
        "train_history=model.fit(train_data,train_label,epochs=30,batch_size=512)"
      ],
      "metadata": {
        "id": "DtqVt71KEq6o"
      },
      "execution_count": null,
      "outputs": []
    },
    {
      "cell_type": "code",
      "source": [
        "# 使用測試資料集進行評估，並印出模型的準確度\n",
        "score=model.evaluate(test_data, test_label)\n",
        "print(score[1])"
      ],
      "metadata": {
        "id": "xkKIybRNHUvY"
      },
      "execution_count": null,
      "outputs": []
    },
    {
      "cell_type": "code",
      "source": [
        "import matplotlib.pyplot as plt      # 用於繪圖\n",
        "import numpy as np\n",
        "\n",
        "def show_train_history(train_history, train):\n",
        "    # 繪製訓練歷史中的準確性或損失曲線\n",
        "    plt.plot(train_history.history[train])\n",
        "    plt.title('Train History')\n",
        "    plt.ylabel(train)\n",
        "    plt.xlabel('Epoch')\n",
        "    plt.legend(['train'], loc='center right')\n",
        "    plt.show()\n",
        "\n",
        "# 顯示訓練歷史中的準確性曲線\n",
        "show_train_history(train_history, 'accuracy')\n",
        "\n",
        "# 顯示訓練歷史中的損失曲線\n",
        "show_train_history(train_history, 'loss')\n"
      ],
      "metadata": {
        "id": "Cv_v54DEHhaR"
      },
      "execution_count": null,
      "outputs": []
    }
  ]
}