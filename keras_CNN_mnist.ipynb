{
  "nbformat": 4,
  "nbformat_minor": 0,
  "metadata": {
    "colab": {
      "provenance": []
    },
    "kernelspec": {
      "name": "python3",
      "display_name": "Python 3"
    },
    "language_info": {
      "name": "python"
    }
  },
  "cells": [
    {
      "cell_type": "markdown",
      "source": [
        "# CNN圖片訓練"
      ],
      "metadata": {
        "id": "0s9_J9poCe6x"
      }
    },
    {
      "cell_type": "code",
      "source": [
        "from tensorflow import keras\n",
        "from keras.models import Sequential                       #Sequential 堆疊\n",
        "from keras.layers import Dense, Conv2D, MaxPooling2D, Flatten         #Flatten 拉平\n",
        "# 建立Sequential模型\n",
        "model = Sequential()\n",
        "\n",
        "# 加入一個卷積層，16個濾波器，濾波器大小為5x5，輸入形狀為(28, 28, 1)，激活函數為ReLU\n",
        "model.add(Conv2D(filters=16, kernel_size=(5, 5), input_shape=(28, 28, 1), activation='relu'))\n",
        "\n",
        "# 加入一個最大池化層，池化大小為2x2\n",
        "model.add(MaxPooling2D(pool_size=(2, 2)))\n",
        "\n",
        "# 將特徵圖拉平成一維陣列\n",
        "model.add(Flatten())\n",
        "\n",
        "# 加入一個全連接層，10個神經元，激活函數為Softmax\n",
        "model.add(Dense(10, activation='softmax'))\n",
        "\n",
        "# 顯示模型摘要\n",
        "model.summary()\n",
        "\n",
        "# 編譯模型，使用rmsprop優化器、多類別交叉熵損失函數，並計算準確度\n",
        "model.compile(optimizer='rmsprop', loss='categorical_crossentropy', metrics=['accuracy'])\n"
      ],
      "metadata": {
        "id": "SPvXg61rCfCQ"
      },
      "execution_count": null,
      "outputs": []
    },
    {
      "cell_type": "code",
      "source": [
        "# 載入MNIST資料集，包含手寫數字圖片\n",
        "mnist = keras.datasets.mnist\n",
        "(train_data, train_label), (test_data, test_label) = mnist.load_data()\n",
        "\n",
        "# 將標籤資料轉換為one-hot編碼\n",
        "train_label = keras.utils.to_categorical(train_label)\n",
        "test_label = keras.utils.to_categorical(test_label)"
      ],
      "metadata": {
        "id": "ZHiHutTmCo2Q"
      },
      "execution_count": null,
      "outputs": []
    },
    {
      "cell_type": "code",
      "source": [
        "# 評估模型，並印出準確度\n",
        "score=model.evaluate(test_data, test_label)\n",
        "print(score[1])"
      ],
      "metadata": {
        "id": "0T8sbn_tC0yg"
      },
      "execution_count": null,
      "outputs": []
    },
    {
      "cell_type": "code",
      "source": [
        "# 繪製訓練過程中的正確性和損失歷史圖\n",
        "import matplotlib.pyplot as plt\n",
        "import numpy as np\n",
        "\n",
        "def show_train_history(train_history, train, validation):\n",
        "    plt.plot(train_history.history[train])\n",
        "    plt.plot(train_history.history[validation])\n",
        "    plt.title('Train History')\n",
        "    plt.ylabel(train)\n",
        "    plt.xlabel('Epoch')\n",
        "    plt.legend(['train', 'validation'], loc='center right')\n",
        "    plt.show()\n",
        "\n",
        "# 顯示訓練過程中的正確性歷史圖\n",
        "show_train_history(train_history, 'accuracy', 'val_accuracy')\n",
        "\n",
        "# 顯示訓練過程中的損失歷史圖\n",
        "show_train_history(train_history, 'loss', 'val_loss')\n",
        "\n",
        "# 混淆矩陣\n",
        "import pandas as pd\n",
        "prediction = model.predict(test_data)\n",
        "prediction_label = np.argmax(prediction, axis=1)\n",
        "print(test_label_original.shape)\n",
        "confusion_matrix = pd.crosstab(test_label_original, prediction_label, rownames=['label'], colnames=['predict'])\n",
        "print(confusion_matrix)\n"
      ],
      "metadata": {
        "id": "h9J3x-N-DXDw"
      },
      "execution_count": null,
      "outputs": []
    }
  ]
}