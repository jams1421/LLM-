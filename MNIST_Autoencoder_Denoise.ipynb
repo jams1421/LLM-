{
  "nbformat": 4,
  "nbformat_minor": 0,
  "metadata": {
    "colab": {
      "provenance": []
    },
    "kernelspec": {
      "name": "python3",
      "display_name": "Python 3"
    },
    "language_info": {
      "name": "python"
    }
  },
  "cells": [
    {
      "cell_type": "code",
      "execution_count": null,
      "metadata": {
        "id": "lc6pv09LJ-hn"
      },
      "outputs": [],
      "source": []
    },
    {
      "cell_type": "markdown",
      "source": [
        "#  Seq2Seq 去雜訊應用"
      ],
      "metadata": {
        "id": "ImS4kjoXKBh4"
      }
    },
    {
      "cell_type": "code",
      "source": [
        "from keras.layers import Input, Conv2D, MaxPooling2D, UpSampling2D\n",
        "from keras.models import Model\n",
        "from keras.models import Sequential\n",
        "from keras.datasets import mnist\n",
        "import numpy as np\n",
        "import matplotlib.pyplot as plt\n",
        "# 載入 MNIST 資料集\n",
        "(x_train, _), (x_test, _) = mnist.load_data()\n",
        "# 資料預處理\n",
        "x_train = x_train.astype('float32') / 255.\n",
        "x_test = x_test.astype('float32') / 255.\n",
        "x_train = np.reshape(x_train, (len(x_train), 28, 28, 1))\n",
        "x_test = np.reshape(x_test, (len(x_test), 28, 28, 1))\n",
        "\n",
        "#加入雜訊\n",
        "noise_factor = 0.5\n",
        "# numpy.random.normal 函數裡的三個參數分别代表生成的高斯分布的均值、標準差以及輸出的 size\n",
        "x_train_noisy = x_train + noise_factor * np.random.normal(loc=0.0, scale=1.0, size=x_train.shape)\n",
        "x_test_noisy = x_test + noise_factor * np.random.normal(loc=0.0, scale=1.0, size=x_test.shape)\n",
        "x_train_noisy = np.clip(x_train_noisy, 0., 1.)\n",
        "x_test_noisy = np.clip(x_test_noisy, 0., 1.)\n",
        "\n",
        "#autoencoder模型建立\n",
        "autoencoder=Sequential()\n",
        "#encoder\n",
        "autoencoder.add(Conv2D(filters=16, kernel_size=(3, 3), input_shape=(28, 28, 1), activation='relu', padding='same'))\n",
        "autoencoder.add(MaxPooling2D(pool_size=(2, 2), padding='same'))\n",
        "autoencoder.add(Conv2D(filters=8, kernel_size=(3, 3), activation='relu', padding='same'))\n",
        "autoencoder.add(MaxPooling2D(pool_size=(2, 2), padding='same'))\n",
        "autoencoder.add(Conv2D(filters=8, kernel_size=(3, 3), activation='relu', padding='same'))\n",
        "autoencoder.add(MaxPooling2D(pool_size=(2, 2), padding='same'))\n",
        "#Decoder\n",
        "autoencoder.add(Conv2D(filters=8, kernel_size=(3, 3), activation='relu', padding='same'))\n",
        "autoencoder.add(UpSampling2D((2, 2)))\n",
        "autoencoder.add(Conv2D(filters=8, kernel_size=(3, 3), activation='relu', padding='same'))\n",
        "autoencoder.add(UpSampling2D((2, 2)))\n",
        "autoencoder.add(Conv2D(filters=16, kernel_size=(3, 3), activation='relu'))\n",
        "autoencoder.add(UpSampling2D((2, 2)))\n",
        "autoencoder.add(Conv2D(filters=1, kernel_size=(3, 3), activation='sigmoid', padding='same'))\n",
        "\n",
        "# 編譯模型，optimizer 使用 adam，loss 使用 binary_crossentropy\n",
        "autoencoder.compile(optimizer='adam', loss='binary_crossentropy')\n",
        "\n",
        "# 訓練 Autoencoder ，輸入是加入雜訊的圖片，輸出是原始圖片\n",
        "autoencoder.fit(x_train_noisy, x_train, epochs=20, batch_size=128)\n",
        "\n",
        "#將有雜訊的測試影像丟入訓練好的模型進行訓練\n",
        "denoised_images = autoencoder.predict(x_test_noisy.reshape(x_test_noisy.shape[0], x_test_noisy.shape[1], x_test_noisy.shape[2], 1))\n",
        "\n",
        "#繪製圖形\n",
        "plt.figure(figsize=(20, 6))\n",
        "\n",
        "for i in range(10):\n",
        "    ax = plt.subplot(3, 10, i+1)\n",
        "    plt.imshow(x_test[i].reshape(28,28))\n",
        "    plt.gray()\n",
        "    ax = plt.subplot(3, 10, i+11)\n",
        "    plt.imshow(x_test_noisy[i].reshape(28, 28))\n",
        "    plt.gray()\n",
        "    ax = plt.subplot(3, 10, i+21)\n",
        "    plt.imshow(denoised_images[i].reshape(28, 28))\n",
        "    plt.gray()\n",
        "plt.show()"
      ],
      "metadata": {
        "id": "UYyJhfqlKBy_"
      },
      "execution_count": null,
      "outputs": []
    }
  ]
}