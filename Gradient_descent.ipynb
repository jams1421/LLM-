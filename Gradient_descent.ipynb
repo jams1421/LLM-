{
  "nbformat": 4,
  "nbformat_minor": 0,
  "metadata": {
    "colab": {
      "provenance": []
    },
    "kernelspec": {
      "name": "python3",
      "display_name": "Python 3"
    },
    "language_info": {
      "name": "python"
    }
  },
  "cells": [
    {
      "cell_type": "code",
      "execution_count": null,
      "metadata": {
        "id": "z8o2Gunv-pbc"
      },
      "outputs": [],
      "source": []
    },
    {
      "cell_type": "markdown",
      "source": [
        "# 梯度縮減(Gradient Descent)\n",
        "\n",
        "以y = x^2的範例，說明深度學習網路如何透過可微分之函數逼近目標最小值"
      ],
      "metadata": {
        "id": "NNKn-yGA-zuI"
      }
    },
    {
      "cell_type": "code",
      "source": [
        "import numpy as np\n",
        "import matplotlib.pyplot as plt\n",
        "\n",
        "# 目標函數:y=x^2\n",
        "def func(x): return np.square(x)\n",
        "\n",
        "# 目標函數一階導數:dy/dx=2*x\n",
        "def dfunc(x): return 2 * x\n",
        "\n",
        "def GD(x_start, df, epochs, lr):\n",
        "    \"\"\"  梯度下降法。給定起始點與目標函數的一階導函數，求在epochs次反覆運算中x的更新值\n",
        "        :param x_start: x的起始點\n",
        "        :param df: 目標函數的一階導函數\n",
        "        :param epochs: 反覆運算週期\n",
        "        :param lr: 學習率\n",
        "        :return: x在每次反覆運算後的位置（包括起始點），長度為epochs+1\n",
        "     \"\"\"\n",
        "    xs = np.zeros(epochs+1)\n",
        "    x = x_start\n",
        "    xs[0] = x\n",
        "    for i in range(epochs):\n",
        "        dx = df(x)\n",
        "        # v表示x要改變的幅度\n",
        "        v = - dx * lr\n",
        "        x += v\n",
        "        xs[i+1] = x\n",
        "    return xs\n",
        "\n",
        "# Main\n",
        "# 起始權重\n",
        "x_start = 5\n",
        "# 執行週期數\n",
        "epochs = 15\n",
        "# 學習率\n",
        "lr = 0.3\n",
        "# 梯度下降法\n",
        "x = GD(x_start, dfunc, epochs, lr=lr)\n",
        "print (x)\n",
        "# 輸出：[-5.     -2.     -0.8    -0.32   -0.128  -0.0512]\n",
        "\n",
        "# 畫出目標函數的圖形\n",
        "color = 'r'\n",
        "#plt.plot(line_x, line_y, c='b')\n",
        "from numpy import arange\n",
        "t = arange(-6.0, 6.0, 0.01)\n",
        "plt.plot(t, func(t), c='b')\n",
        "plt.plot(x, func(x), c=color, label='lr={}'.format(lr))\n",
        "plt.scatter(x, func(x), c=color, )\n",
        "plt.legend()\n",
        "# 顯示圖形\n",
        "plt.show()"
      ],
      "metadata": {
        "id": "9JU-4tol-0lB"
      },
      "execution_count": null,
      "outputs": []
    }
  ]
}